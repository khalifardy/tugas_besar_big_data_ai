{
 "cells": [
  {
   "cell_type": "code",
   "execution_count": 1,
   "metadata": {},
   "outputs": [],
   "source": [
    "import pandas as pd\n",
    "from pyspark.sql import SparkSession\n",
    "from pyspark.sql.functions import col, sum\n",
    "from pyspark.sql import functions as F\n",
    "import matplotlib.pyplot as plt\n",
    "import seaborn as sns\n",
    "sns.set()"
   ]
  },
  {
   "cell_type": "code",
   "execution_count": 2,
   "metadata": {},
   "outputs": [
    {
     "name": "stderr",
     "output_type": "stream",
     "text": [
      "Setting default log level to \"WARN\".\n",
      "To adjust logging level use sc.setLogLevel(newLevel). For SparkR, use setLogLevel(newLevel).\n",
      "24/11/10 11:15:15 WARN NativeCodeLoader: Unable to load native-hadoop library for your platform... using builtin-java classes where applicable\n"
     ]
    }
   ],
   "source": [
    "# Inisialisasi SparkSession\n",
    "spark = SparkSession.builder \\\n",
    "    .appName(\"Membuat DataFrame dari CSV\") \\\n",
    "    .config(\"spark.storage.memoryFraction\", \"0.4\") \\\n",
    "    .config(\"spark.memory.fraction\", \"0.6\") \\\n",
    "    .getOrCreate()\n",
    "    \n",
    "\n"
   ]
  },
  {
   "cell_type": "code",
   "execution_count": 3,
   "metadata": {},
   "outputs": [
    {
     "name": "stderr",
     "output_type": "stream",
     "text": [
      "24/11/10 11:15:31 WARN GarbageCollectionMetrics: To enable non-built-in garbage collector(s) List(G1 Concurrent GC), users should configure it(them) to spark.eventLog.gcMetrics.youngGenerationGarbageCollectors or spark.eventLog.gcMetrics.oldGenerationGarbageCollectors\n",
      "                                                                                \r"
     ]
    }
   ],
   "source": [
    "#DARAFRAME DARI CSV0.\n",
    "\n",
    "df = spark.read.csv(\"train.csv\", header=True, inferSchema=True)"
   ]
  },
  {
   "cell_type": "code",
   "execution_count": 4,
   "metadata": {},
   "outputs": [
    {
     "name": "stdout",
     "output_type": "stream",
     "text": [
      "root\n",
      " |-- key: timestamp (nullable = true)\n",
      " |-- fare_amount: double (nullable = true)\n",
      " |-- pickup_datetime: timestamp (nullable = true)\n",
      " |-- pickup_longitude: double (nullable = true)\n",
      " |-- pickup_latitude: double (nullable = true)\n",
      " |-- dropoff_longitude: double (nullable = true)\n",
      " |-- dropoff_latitude: double (nullable = true)\n",
      " |-- passenger_count: integer (nullable = true)\n",
      "\n"
     ]
    }
   ],
   "source": [
    "# print shema dataframe\n",
    "df.printSchema()"
   ]
  },
  {
   "cell_type": "code",
   "execution_count": 5,
   "metadata": {},
   "outputs": [
    {
     "name": "stdout",
     "output_type": "stream",
     "text": [
      "+-------------------+-----------+-------------------+----------------+---------------+-----------------+----------------+---------------+\n",
      "|                key|fare_amount|    pickup_datetime|pickup_longitude|pickup_latitude|dropoff_longitude|dropoff_latitude|passenger_count|\n",
      "+-------------------+-----------+-------------------+----------------+---------------+-----------------+----------------+---------------+\n",
      "|2009-06-15 17:26:21|        4.5|2009-06-15 17:26:21|      -73.844311|      40.721319|        -73.84161|       40.712278|              1|\n",
      "|2010-01-05 16:52:16|       16.9|2010-01-05 16:52:16|      -74.016048|      40.711303|       -73.979268|       40.782004|              1|\n",
      "|2011-08-18 00:35:00|        5.7|2011-08-18 00:35:00|      -73.982738|       40.76127|       -73.991242|       40.750562|              2|\n",
      "|2012-04-21 04:30:42|        7.7|2012-04-21 04:30:42|       -73.98713|      40.733143|       -73.991567|       40.758092|              1|\n",
      "|2010-03-09 07:51:00|        5.3|2010-03-09 07:51:00|      -73.968095|      40.768008|       -73.956655|       40.783762|              1|\n",
      "+-------------------+-----------+-------------------+----------------+---------------+-----------------+----------------+---------------+\n",
      "only showing top 5 rows\n",
      "\n"
     ]
    }
   ],
   "source": [
    "#print data frame\n",
    "df.show(5)"
   ]
  },
  {
   "cell_type": "code",
   "execution_count": 6,
   "metadata": {},
   "outputs": [
    {
     "name": "stderr",
     "output_type": "stream",
     "text": [
      "[Stage 3:======================================================>  (41 + 2) / 43]\r"
     ]
    },
    {
     "name": "stdout",
     "output_type": "stream",
     "text": [
      "+---+-----------+---------------+----------------+---------------+-----------------+----------------+---------------+\n",
      "|key|fare_amount|pickup_datetime|pickup_longitude|pickup_latitude|dropoff_longitude|dropoff_latitude|passenger_count|\n",
      "+---+-----------+---------------+----------------+---------------+-----------------+----------------+---------------+\n",
      "|  0|          0|              0|               0|              0|              376|             376|              0|\n",
      "+---+-----------+---------------+----------------+---------------+-----------------+----------------+---------------+\n",
      "\n"
     ]
    },
    {
     "name": "stderr",
     "output_type": "stream",
     "text": [
      "                                                                                \r"
     ]
    }
   ],
   "source": [
    "# cek nilai kosong\n",
    "null_counts = df.select([sum(col(c).isNull().cast(\"int\")).alias(c) for c in df.columns])\n",
    "null_counts.show()"
   ]
  },
  {
   "cell_type": "code",
   "execution_count": 7,
   "metadata": {},
   "outputs": [
    {
     "name": "stderr",
     "output_type": "stream",
     "text": [
      "                                                                                \r"
     ]
    }
   ],
   "source": [
    "kolom_null = [\n",
    "    'dropoff_longitude',\n",
    "    'dropoff_latitude',\n",
    "] \n",
    "dictio = {}\n",
    "for kol in kolom_null:\n",
    "    modus = df.groupBy(kol).count().orderBy(F.desc('count')).first()[0]\n",
    "    dictio[kol] = modus"
   ]
  },
  {
   "cell_type": "code",
   "execution_count": 8,
   "metadata": {},
   "outputs": [],
   "source": [
    "#isi data kosong\n",
    "df = df.fillna(dictio)"
   ]
  },
  {
   "cell_type": "code",
   "execution_count": 9,
   "metadata": {},
   "outputs": [
    {
     "name": "stderr",
     "output_type": "stream",
     "text": [
      "[Stage 12:======================================================> (42 + 1) / 43]\r"
     ]
    },
    {
     "name": "stdout",
     "output_type": "stream",
     "text": [
      "+---+-----------+---------------+----------------+---------------+-----------------+----------------+---------------+\n",
      "|key|fare_amount|pickup_datetime|pickup_longitude|pickup_latitude|dropoff_longitude|dropoff_latitude|passenger_count|\n",
      "+---+-----------+---------------+----------------+---------------+-----------------+----------------+---------------+\n",
      "|  0|          0|              0|               0|              0|                0|               0|              0|\n",
      "+---+-----------+---------------+----------------+---------------+-----------------+----------------+---------------+\n",
      "\n"
     ]
    },
    {
     "name": "stderr",
     "output_type": "stream",
     "text": [
      "                                                                                \r"
     ]
    }
   ],
   "source": [
    "# cek nilai kosong\n",
    "null_counts = df.select([sum(col(c).isNull().cast(\"int\")).alias(c) for c in df.columns])\n",
    "null_counts.show()"
   ]
  },
  {
   "cell_type": "code",
   "execution_count": 10,
   "metadata": {},
   "outputs": [],
   "source": [
    "#drop kolom ket dan pickup date\n",
    "df = df.drop('key', 'pickup_datetime')"
   ]
  },
  {
   "cell_type": "code",
   "execution_count": 11,
   "metadata": {},
   "outputs": [
    {
     "name": "stdout",
     "output_type": "stream",
     "text": [
      "+-----------+----------------+---------------+-----------------+----------------+---------------+\n",
      "|fare_amount|pickup_longitude|pickup_latitude|dropoff_longitude|dropoff_latitude|passenger_count|\n",
      "+-----------+----------------+---------------+-----------------+----------------+---------------+\n",
      "|        4.5|      -73.844311|      40.721319|        -73.84161|       40.712278|              1|\n",
      "|       16.9|      -74.016048|      40.711303|       -73.979268|       40.782004|              1|\n",
      "|        5.7|      -73.982738|       40.76127|       -73.991242|       40.750562|              2|\n",
      "|        7.7|       -73.98713|      40.733143|       -73.991567|       40.758092|              1|\n",
      "|        5.3|      -73.968095|      40.768008|       -73.956655|       40.783762|              1|\n",
      "+-----------+----------------+---------------+-----------------+----------------+---------------+\n",
      "only showing top 5 rows\n",
      "\n"
     ]
    }
   ],
   "source": [
    "df.show(5)"
   ]
  },
  {
   "cell_type": "code",
   "execution_count": 12,
   "metadata": {},
   "outputs": [],
   "source": [
    "#konversi ke radians longitude dan latitude\n",
    "\n",
    "df = df.withColumn(\"pickup_longitude\", F.radians(col(\"pickup_longitude\")))\n",
    "df = df.withColumn(\"pickup_latitude\", F.radians(col(\"pickup_latitude\")))\n",
    "df = df.withColumn(\"dropoff_longitude\", F.radians(col(\"dropoff_longitude\")))\n",
    "df = df.withColumn(\"dropoff_latitude\", F.radians(col(\"dropoff_latitude\")))"
   ]
  },
  {
   "cell_type": "code",
   "execution_count": 13,
   "metadata": {},
   "outputs": [
    {
     "name": "stdout",
     "output_type": "stream",
     "text": [
      "+-----------+-------------------+------------------+-------------------+------------------+---------------+\n",
      "|fare_amount|   pickup_longitude|   pickup_latitude|  dropoff_longitude|  dropoff_latitude|passenger_count|\n",
      "+-----------+-------------------+------------------+-------------------+------------------+---------------+\n",
      "|        4.5|-1.2888263608166666|0.7107210923049249|  -1.28877921947357| 0.710563297087252|              1|\n",
      "|       16.9|-1.2918237369141639| 0.710546280127045|-1.2911818048152806|0.7117802453614975|              1|\n",
      "|        5.7|-1.2912423677403246|0.7114183687943891|-1.2913907905399142|0.7112314789380856|              2|\n",
      "|        7.7| -1.291319022601072|0.7109274600356805|-1.2913964628599832|0.7113629022307606|              1|\n",
      "|        5.3|-1.2909867991779551|0.7115359690793884|-1.2907871335115269|0.7118109282497477|              1|\n",
      "+-----------+-------------------+------------------+-------------------+------------------+---------------+\n",
      "only showing top 5 rows\n",
      "\n"
     ]
    }
   ],
   "source": [
    "df.show(5)"
   ]
  },
  {
   "cell_type": "code",
   "execution_count": 14,
   "metadata": {},
   "outputs": [],
   "source": [
    "def jarak(pikcup_lat, pickup_long, dropoff_lat, dropoff_long):\n",
    "    R = 6371\n",
    "    lat1 = pikcup_lat\n",
    "    lon1 = pickup_long\n",
    "    lat2 = dropoff_lat\n",
    "    lon2 = dropoff_long\n",
    "    dlat = lat2 - lat1\n",
    "    dlon = lon2 - lon1\n",
    "    a = F.sin(dlat/2)**2 + F.cos(lat1) * F.cos(lat2) * F.sin(dlon/2)**2\n",
    "    c = 2 * F.asin(F.sqrt(a))\n",
    "    return R * c"
   ]
  },
  {
   "cell_type": "code",
   "execution_count": 15,
   "metadata": {},
   "outputs": [],
   "source": [
    "#buat kolom jarak\n",
    "df = df.withColumn(\"jarak\", jarak(df.pickup_latitude, df.pickup_longitude, df.dropoff_latitude, df.dropoff_longitude))"
   ]
  },
  {
   "cell_type": "code",
   "execution_count": 16,
   "metadata": {},
   "outputs": [
    {
     "name": "stdout",
     "output_type": "stream",
     "text": [
      "+-----------+-------------------+------------------+-------------------+------------------+---------------+------------------+\n",
      "|fare_amount|   pickup_longitude|   pickup_latitude|  dropoff_longitude|  dropoff_latitude|passenger_count|             jarak|\n",
      "+-----------+-------------------+------------------+-------------------+------------------+---------------+------------------+\n",
      "|        4.5|-1.2888263608166666|0.7107210923049249|  -1.28877921947357| 0.710563297087252|              1| 1.030763935049508|\n",
      "|       16.9|-1.2918237369141639| 0.710546280127045|-1.2911818048152806|0.7117802453614975|              1| 8.450133595805992|\n",
      "|        5.7|-1.2912423677403246|0.7114183687943891|-1.2913907905399142|0.7112314789380856|              2|1.3895252257697308|\n",
      "|        7.7| -1.291319022601072|0.7109274600356805|-1.2913964628599832|0.7113629022307606|              1| 2.799270239983641|\n",
      "|        5.3|-1.2909867991779551|0.7115359690793884|-1.2907871335115269|0.7118109282497477|              1|1.9991567879963377|\n",
      "+-----------+-------------------+------------------+-------------------+------------------+---------------+------------------+\n",
      "only showing top 5 rows\n",
      "\n"
     ]
    }
   ],
   "source": [
    "df.show(5)"
   ]
  },
  {
   "cell_type": "code",
   "execution_count": 17,
   "metadata": {},
   "outputs": [],
   "source": [
    "# drop kolom pickup_longitude, pickup_latitude, dropoff_longitude, dropoff_latitude\n",
    "df = df.drop('pickup_longitude', 'pickup_latitude', 'dropoff_longitude', 'dropoff_latitude')"
   ]
  },
  {
   "cell_type": "code",
   "execution_count": 18,
   "metadata": {},
   "outputs": [
    {
     "name": "stdout",
     "output_type": "stream",
     "text": [
      "+-----------+---------------+------------------+\n",
      "|fare_amount|passenger_count|             jarak|\n",
      "+-----------+---------------+------------------+\n",
      "|        4.5|              1| 1.030763935049508|\n",
      "|       16.9|              1| 8.450133595805992|\n",
      "|        5.7|              2|1.3895252257697308|\n",
      "|        7.7|              1| 2.799270239983641|\n",
      "|        5.3|              1|1.9991567879963377|\n",
      "+-----------+---------------+------------------+\n",
      "only showing top 5 rows\n",
      "\n"
     ]
    }
   ],
   "source": [
    "df.show(5)"
   ]
  },
  {
   "cell_type": "code",
   "execution_count": 19,
   "metadata": {},
   "outputs": [
    {
     "name": "stderr",
     "output_type": "stream",
     "text": [
      "                                                                                \r"
     ]
    }
   ],
   "source": [
    "#hitung korelasi\n",
    "correlation_fare_amount_jarak = df.stat.corr(\"fare_amount\", \"jarak\")\n",
    "correlation_fare_amount_passenger_count = df.stat.corr(\"fare_amount\", \"passenger_count\")"
   ]
  },
  {
   "cell_type": "code",
   "execution_count": 20,
   "metadata": {},
   "outputs": [
    {
     "name": "stdout",
     "output_type": "stream",
     "text": [
      "korelasi fare_amount_jarak 0.012939121700926964\n",
      "korelaso fare amount dan passenger_count 0.006131483315520129\n"
     ]
    }
   ],
   "source": [
    "print(f\"korelasi fare_amount_jarak {correlation_fare_amount_jarak}\")\n",
    "print(f\"korelaso fare amount dan passenger_count {correlation_fare_amount_passenger_count}\")"
   ]
  },
  {
   "cell_type": "code",
   "execution_count": 21,
   "metadata": {},
   "outputs": [],
   "source": [
    "#Machine learningh SEssion\n",
    "from pyspark.ml.feature import VectorAssembler, MinMaxScaler\n",
    "from pyspark.ml.regression import LinearRegression\n",
    "from pyspark.ml.evaluation import RegressionEvaluator"
   ]
  },
  {
   "cell_type": "code",
   "execution_count": 22,
   "metadata": {},
   "outputs": [
    {
     "name": "stderr",
     "output_type": "stream",
     "text": [
      "24/11/10 11:25:56 WARN SparkSession: Using an existing Spark session; only runtime SQL configurations will take effect.\n"
     ]
    }
   ],
   "source": [
    "spark = SparkSession.builder \\\n",
    "    .appName(\"model ML\") \\\n",
    "    .config(\"spark.storage.memoryFraction\", \"0.4\") \\\n",
    "    .config(\"spark.memory.fraction\", \"0.6\") \\\n",
    "    .getOrCreate()"
   ]
  },
  {
   "cell_type": "code",
   "execution_count": 23,
   "metadata": {},
   "outputs": [],
   "source": [
    "#rubah data ke bentuk vektor\n",
    "vf = VectorAssembler(inputCols=[\"jarak\",\"passenger_count\"], outputCol=\"features\")\n",
    "df_vf = vf.transform(df)"
   ]
  },
  {
   "cell_type": "code",
   "execution_count": 24,
   "metadata": {},
   "outputs": [
    {
     "name": "stdout",
     "output_type": "stream",
     "text": [
      "+-------------------------+\n",
      "|features                 |\n",
      "+-------------------------+\n",
      "|[1.030763935049508,1.0]  |\n",
      "|[8.450133595805992,1.0]  |\n",
      "|[1.3895252257697308,2.0] |\n",
      "|[2.799270239983641,1.0]  |\n",
      "|[1.9991567879963377,1.0] |\n",
      "|[3.7872390847819912,1.0] |\n",
      "|[1.5558066593500526,1.0] |\n",
      "|[4.155444291845812,1.0]  |\n",
      "|[1.253231512725298,1.0]  |\n",
      "|[2.8496267961070503,2.0] |\n",
      "|[1.374576999593841,1.0]  |\n",
      "|[0.0,3.0]                |\n",
      "|[0.7177674874531168,2.0] |\n",
      "|[2.0193838271979137,1.0] |\n",
      "|[1.6714445980753232,2.0] |\n",
      "|[0.0,1.0]                |\n",
      "|[2.609774493745362,1.0]  |\n",
      "|[1.5119042477189055,1.0] |\n",
      "|[0.9219517182545394,1.0] |\n",
      "|[0.39917857039885574,1.0]|\n",
      "+-------------------------+\n",
      "only showing top 20 rows\n",
      "\n"
     ]
    }
   ],
   "source": [
    "df_vf.select(\"features\").show(truncate=False)"
   ]
  },
  {
   "cell_type": "code",
   "execution_count": 25,
   "metadata": {},
   "outputs": [
    {
     "name": "stderr",
     "output_type": "stream",
     "text": [
      "                                                                                \r"
     ]
    }
   ],
   "source": [
    "#normalisasi \n",
    "scaler = MinMaxScaler(inputCol=\"features\", outputCol=\"scaled_features\")\n",
    "scale_df = scaler.fit(df_vf).transform(df_vf)\n"
   ]
  },
  {
   "cell_type": "code",
   "execution_count": 26,
   "metadata": {},
   "outputs": [],
   "source": [
    "train_data, test_data = scale_df.randomSplit([0.8, 0.2], seed=12345)"
   ]
  },
  {
   "cell_type": "code",
   "execution_count": 27,
   "metadata": {},
   "outputs": [
    {
     "name": "stderr",
     "output_type": "stream",
     "text": [
      "[Stage 29:>                                                         (0 + 1) / 1]\r"
     ]
    },
    {
     "name": "stdout",
     "output_type": "stream",
     "text": [
      "+-------------------------+--------------------------------------------+\n",
      "|features                 |scaled_features                             |\n",
      "+-------------------------+--------------------------------------------+\n",
      "|[0.03048591960311607,1.0]|[1.54838886738623E-6,0.004807692307692308]  |\n",
      "|[0.0725502844614506,1.0] |[3.6848503915339342E-6,0.004807692307692308]|\n",
      "|[16.447528746811816,1.0] |[8.353748464578158E-4,0.004807692307692308] |\n",
      "|[9.695039003207652,1.0]  |[4.924138965421802E-4,0.004807692307692308] |\n",
      "|[0.0,5.0]                |[0.0,0.02403846153846154]                   |\n",
      "|[6.983482474435493,3.0]  |[3.5469313898923717E-4,0.014423076923076924]|\n",
      "|[1.2142596363126945,1.0] |[6.167260582786724E-5,0.004807692307692308] |\n",
      "|[2.430373687660271,1.0]  |[1.2343939794346684E-4,0.004807692307692308]|\n",
      "|[3.2470794209034395,1.0] |[1.649201235291557E-4,0.004807692307692308] |\n",
      "|[1.4699590445869959,3.0] |[7.46596543513668E-5,0.014423076923076924]  |\n",
      "|[0.8058296471758282,4.0] |[4.0928325959676485E-5,0.019230769230769232]|\n",
      "|[0.26400626341934774,5.0]|[1.3408956151579276E-5,0.02403846153846154] |\n",
      "|[0.8862624864977033,1.0] |[4.5013533642423474E-5,0.004807692307692308]|\n",
      "|[0.9581269845369664,1.0] |[4.866355273887615E-5,0.004807692307692308] |\n",
      "|[1.2234991314365578,1.0] |[6.21418825161321E-5,0.004807692307692308]  |\n",
      "|[1.1134335217974713,3.0] |[5.6551617670395904E-5,0.014423076923076924]|\n",
      "|[0.6778538580961121,6.0] |[3.44283978064268E-5,0.028846153846153848]  |\n",
      "|[1.13298071641774,6.0]   |[5.754442546273693E-5,0.028846153846153848] |\n",
      "|[0.3590071570451743,1.0] |[1.8234079618313663E-5,0.004807692307692308]|\n",
      "|[0.5514637560216269,1.0] |[2.8009007164855378E-5,0.004807692307692308]|\n",
      "+-------------------------+--------------------------------------------+\n",
      "only showing top 20 rows\n",
      "\n"
     ]
    },
    {
     "name": "stderr",
     "output_type": "stream",
     "text": [
      "                                                                                \r"
     ]
    }
   ],
   "source": [
    "train_data.select(\"features\",\"scaled_features\").show(truncate=False)"
   ]
  },
  {
   "cell_type": "code",
   "execution_count": 28,
   "metadata": {},
   "outputs": [],
   "source": [
    "lr = LinearRegression(featuresCol=\"scaled_features\", labelCol=\"fare_amount\")"
   ]
  },
  {
   "cell_type": "code",
   "execution_count": 29,
   "metadata": {},
   "outputs": [
    {
     "name": "stderr",
     "output_type": "stream",
     "text": [
      "24/11/10 11:27:47 WARN Instrumentation: [5f75ab9a] regParam is zero, which might cause numerical instability and overfitting.\n",
      "24/11/10 11:28:05 WARN InstanceBuilder: Failed to load implementation from:dev.ludovic.netlib.blas.JNIBLAS\n",
      "24/11/10 11:28:05 WARN InstanceBuilder: Failed to load implementation from:dev.ludovic.netlib.blas.VectorBLAS\n",
      "24/11/10 11:31:00 WARN InstanceBuilder: Failed to load implementation from:dev.ludovic.netlib.lapack.JNILAPACK\n",
      "                                                                                \r"
     ]
    }
   ],
   "source": [
    "#train model\n",
    "model = lr.fit(train_data)"
   ]
  },
  {
   "cell_type": "code",
   "execution_count": 30,
   "metadata": {},
   "outputs": [
    {
     "name": "stderr",
     "output_type": "stream",
     "text": [
      "[Stage 34:======================================================> (42 + 1) / 43]\r"
     ]
    },
    {
     "name": "stdout",
     "output_type": "stream",
     "text": [
      "RMSE Train: 19.516112799571808\n"
     ]
    },
    {
     "name": "stderr",
     "output_type": "stream",
     "text": [
      "                                                                                \r"
     ]
    }
   ],
   "source": [
    "#evaluasi training\n",
    "predictions_train = model.transform(train_data)\n",
    "evaluator = RegressionEvaluator(labelCol=\"fare_amount\", predictionCol=\"prediction\", metricName=\"rmse\")\n",
    "rmse_train = evaluator.evaluate(predictions_train)\n",
    "print(f\"RMSE Train: {rmse_train}\")"
   ]
  },
  {
   "cell_type": "code",
   "execution_count": null,
   "metadata": {},
   "outputs": [
    {
     "name": "stderr",
     "output_type": "stream",
     "text": [
      "[Stage 36:======================================================> (42 + 1) / 43]\r"
     ]
    },
    {
     "name": "stdout",
     "output_type": "stream",
     "text": [
      "RMSE Test: 24.911890060064117\n"
     ]
    },
    {
     "name": "stderr",
     "output_type": "stream",
     "text": [
      "                                                                                \r"
     ]
    }
   ],
   "source": [
    "#evaluasi test\n",
    "predictions_test = model.transform(test_data)\n",
    "rmse_test = evaluator.evaluate(predictions_test)\n",
    "print(f\"RMSE Test: {rmse_test}\")"
   ]
  },
  {
   "cell_type": "code",
   "execution_count": 34,
   "metadata": {},
   "outputs": [],
   "source": [
    "#SECTION OPTIMASI\n",
    "import math\n",
    "import numpy as np\n",
    "import multiprocessing as mp\n",
    "import os\n",
    "mp.freeze_support()\n",
    "\n",
    "os.environ['TF_ENABLE_ONEDNN_OPTS'] = '0'"
   ]
  },
  {
   "cell_type": "code",
   "execution_count": null,
   "metadata": {},
   "outputs": [],
   "source": [
    "#optimasi menggunakan KMA\n",
    "\n",
    "search_space = {\n",
    "    \"regparam\":[0,1],\n",
    "    \"elasticnetparam\":[0,1],\n",
    "    \"solver\":[0,1]\n",
    "}\n",
    "\n",
    "\n",
    "def fitness_function(individu):\n",
    "    regparam_dict = {\n",
    "        1:0,\n",
    "        2:0.01,\n",
    "        3:0.1,\n",
    "        4:0.5,\n",
    "        5:1\n",
    "    }\n",
    "    \n",
    "    elasticnetparam_dict = {\n",
    "        1:0,\n",
    "        2:0.01,\n",
    "        3:0.1,\n",
    "        4:0.5,\n",
    "        5:1\n",
    "    }\n",
    "    \n",
    "    solver_dict = {\n",
    "        1:\"auto\",\n",
    "        2:\"normal\",\n",
    "        3:\"l-bfgs\"\n",
    "    }\n",
    "    \n",
    "    lower_bond = np.array([1,1,1])\n",
    "    upper_bond = np.array([5,5,3])\n",
    "    delta = (upper_bond - lower_bond)\n",
    "    term = individu * delta\n",
    "    hasil = np.int64(np.floor(lower_bond + term))\n",
    "    \n",
    "    regparam = regparam_dict[hasil[0]]\n",
    "    elasticnetparam = elasticnetparam_dict[hasil[1]]\n",
    "    solver = solver_dict[hasil[2]]\n",
    "    \n",
    "    lr = LinearRegression(featuresCol=\"scaled_features\", labelCol=\"fare_amount\", regParam=regparam, elasticNetParam=elasticnetparam, solver=solver)\n",
    "    model = lr.fit(train_data)\n",
    "    predictions_train = model.transform(train_data)\n",
    "    predictions_test = model.transform(test_data)\n",
    "    \n",
    "    evaluator = RegressionEvaluator(labelCol=\"fare_amount\", predictionCol=\"prediction\", metricName=\"rmse\")\n",
    "    rmse_train = evaluator.evaluate(predictions_train)\n",
    "    rmse_test = evaluator.evaluate(predictions_test)\n",
    "    \n",
    "    delta_rmse = abs(rmse_train - rmse_test)\n",
    "    fit_value = (1/(1+rmse_test)) * (1/(1+delta_rmse))\n",
    "    \n",
    "    return fit_value\n",
    "\n",
    "class KomodoMlipirAlgorithm:\n",
    "    \"\"\"\n",
    "    Implementasi Algoritma Komodo Mlipir.\n",
    "\n",
    "    Metode oleh:\n",
    "        Prof. Dr. Suyanto, S.T., M.Sc. (2021)\n",
    "\n",
    "    Implementasi Python oleh:\n",
    "        Pejalan Sunyi (2024)\n",
    "\n",
    "    Parameters:\n",
    "        n (int): Jumlah populasi.\n",
    "        p (float): Proporsi jantan besar.\n",
    "        d (float): Tingkat mlipir.\n",
    "        fitness_function (callable): Fungsi fitness yang akan dioptimalkan.\n",
    "        search_space (dict): Batasan pencarian untuk setiap parameter.\n",
    "        max_iter (int): Jumlah iterasi maksimum.\n",
    "        random_state (int): Seed untuk keacakan.\n",
    "        problem (str): Jenis masalah, \"maximize\" atau \"minimize\".\n",
    "        alpha (float): Radius parthenogenesis.\n",
    "        stop_criteria (float): Kriteria penghentian.\n",
    "    \"\"\"\n",
    "\n",
    "    def __init__(\n",
    "        self,\n",
    "        n: int,\n",
    "        p: float,\n",
    "        d: float,\n",
    "        fitness_function: callable,\n",
    "        search_space: dict,\n",
    "        max_iter: int = 100,\n",
    "        random_state: int = 42,\n",
    "        problem: str = \"maximize\",\n",
    "        alpha: float = 0.1,\n",
    "        stop_criteria: float = None,\n",
    "    ):\n",
    "        self.n = n\n",
    "        self.p = p\n",
    "        self.d = d\n",
    "        self.fitness_function = fitness_function\n",
    "        self.search_space = search_space\n",
    "        self.max_iter = max_iter\n",
    "        self.random_state = random_state\n",
    "        self.problem = problem.lower()\n",
    "        self.alpha = alpha\n",
    "        self.stop_criteria = stop_criteria\n",
    "\n",
    "        self.population = []\n",
    "        self.male_large = []\n",
    "        self.male_small = []\n",
    "        self.female = None\n",
    "\n",
    "        self.male_large_fitness = []\n",
    "        self.male_small_fitness = []\n",
    "        self.female_fitness = None\n",
    "\n",
    "        self.history = {\"best_fitness\": [], \"best_solution\": []}\n",
    "        self.best_fitness = None\n",
    "        self.best_solution = None\n",
    "\n",
    "        self.rng = np.random.default_rng(self.random_state)\n",
    "\n",
    "    def initialize_population(self):\n",
    "        \"\"\"\n",
    "        Inisialisasi populasi awal secara acak berdasarkan search_space.\n",
    "        \"\"\"\n",
    "        for _ in range(self.n):\n",
    "            individual = np.array([\n",
    "                self.rng.uniform(low, high)\n",
    "                for low, high in self.search_space.values()\n",
    "            ])\n",
    "            self.population.append(individual)\n",
    "            \n",
    "    def calculate_fitness(self):\n",
    "        \"\"\"\n",
    "        Menghitung nilai fitness untuk setiap individu dalam populasi\n",
    "       \n",
    "        \"\"\"\n",
    "        \n",
    "        fitness_values = np.array([\n",
    "            self.fitness_function(individual)\n",
    "            for individual in self.population\n",
    "        ])\n",
    "        return fitness_values\n",
    "    \n",
    "    def sort_population(self, fitness_values):\n",
    "        \"\"\"\n",
    "        Mengurutkan populasi berdasarkan nilai fitness.\n",
    "\n",
    "        Args:\n",
    "            fitness_values (np.array): Array nilai fitness.\n",
    "\n",
    "        Returns:\n",
    "            Tuple: Populasi dan fitness yang sudah diurutkan.\n",
    "        \"\"\"\n",
    "        if self.problem == \"maximize\":\n",
    "            sorted_indices = np.argsort(fitness_values)[::-1]\n",
    "        elif self.problem == \"minimize\":\n",
    "            sorted_indices = np.argsort(fitness_values)\n",
    "        else:\n",
    "            raise ValueError(\"Parameter 'problem' harus 'maximize' atau 'minimize'.\")\n",
    "\n",
    "        sorted_population = [self.population[i] for i in sorted_indices]\n",
    "        sorted_fitness = fitness_values[sorted_indices]\n",
    "        return sorted_population, sorted_fitness\n",
    "\n",
    "    def split_population(self, sorted_population, sorted_fitness):\n",
    "        \"\"\"\n",
    "        Membagi populasi menjadi jantan besar, betina, dan jantan kecil.\n",
    "\n",
    "        Args:\n",
    "            sorted_population (list): Populasi yang sudah diurutkan.\n",
    "            sorted_fitness (np.array): Fitness yang sudah diurutkan.\n",
    "        \"\"\"\n",
    "        num_male_large = math.floor(self.n * self.p)\n",
    "        self.male_large = sorted_population[:num_male_large]\n",
    "        self.male_large_fitness = sorted_fitness[:num_male_large]\n",
    "\n",
    "        self.female = sorted_population[num_male_large]\n",
    "        self.female_fitness = sorted_fitness[num_male_large]\n",
    "\n",
    "        self.male_small = sorted_population[num_male_large + 1:]\n",
    "        self.male_small_fitness = sorted_fitness[num_male_large + 1:]\n",
    "\n",
    "    def male_large_movement(self):\n",
    "        \"\"\"\n",
    "        Mengupdate posisi jantan besar berdasarkan interaksi antar jantan besar.\n",
    "\n",
    "        Returns:\n",
    "            list: Daftar individu jantan besar yang telah diperbarui.\n",
    "        \"\"\"\n",
    "        updated_males = []\n",
    "        for i, male in enumerate(self.male_large):\n",
    "            movement = np.zeros_like(male)\n",
    "            for j, other_male in enumerate(self.male_large):\n",
    "                if i != j:\n",
    "                    r1 = self.rng.normal(0.5, 0.1)\n",
    "                    r2 = self.rng.normal(0.5, 0.1)\n",
    "                    if self.problem == \"maximize\":\n",
    "                        if (\n",
    "                            self.male_large_fitness[j] > self.male_large_fitness[i]\n",
    "                            and r2 < 0.5\n",
    "                        ):\n",
    "                            movement += r1 * (other_male - male)\n",
    "                        else:\n",
    "                            movement += r1 * (male - other_male)\n",
    "                    else:\n",
    "                        if (\n",
    "                            self.male_large_fitness[j] < self.male_large_fitness[i]\n",
    "                            and r2 < 0.5\n",
    "                        ):\n",
    "                            movement += r1 * (other_male - male)\n",
    "                        else:\n",
    "                            movement += r1 * (male - other_male)\n",
    "                            \n",
    "            updated_male = male + movement\n",
    "            updated_male = self.clip_individual(updated_male)\n",
    "            updated_males.append(updated_male)\n",
    "        return updated_males\n",
    "\n",
    "    def female_movement(self):\n",
    "        \"\"\"\n",
    "        Mengupdate posisi betina melalui kawin atau parthenogenesis.\n",
    "\n",
    "        Returns:\n",
    "            np.array: Individu betina yang telah diperbarui.\n",
    "        \"\"\"\n",
    "        r = self.rng.uniform()\n",
    "        r1 = self.rng.normal(0.5, 0.1)\n",
    "        if r < 0.5:\n",
    "            # Kawin dengan jantan besar terbaik\n",
    "            male = self.male_large[0]\n",
    "            offspring1 = r1 * self.female + (1 - r1) * male\n",
    "            offspring2 = r1 * male + (1 - r1) * self.female\n",
    "\n",
    "            fitness1 = self.fitness_function(offspring1)\n",
    "            fitness2 = self.fitness_function(offspring2)\n",
    "            \n",
    "            if self.problem == \"maximize\":\n",
    "                offspring = offspring1 if fitness1 > fitness2 else offspring2\n",
    "            else :\n",
    "                offspring = offspring1 if fitness1 < fitness2 else offspring2\n",
    "                \n",
    "            print(\"Betina kawin dengan jantan besar.\")\n",
    "        else:\n",
    "            # Parthenogenesis\n",
    "            ub_lb = np.array([\n",
    "                high - low\n",
    "                for low, high in self.search_space.values()\n",
    "            ])\n",
    "            offspring = self.female + ub_lb * ((2 * r1 - 1) * self.alpha)\n",
    "            offspring = self.clip_individual(offspring)\n",
    "            print(\"Betina melakukan parthenogenesis.\")\n",
    "        return offspring\n",
    "\n",
    "    def male_small_movement(self):\n",
    "        \"\"\"\n",
    "        Mengupdate posisi jantan kecil berdasarkan interaksi dengan jantan besar.\n",
    "\n",
    "        Returns:\n",
    "            list: Daftar individu jantan kecil yang telah diperbarui.\n",
    "        \"\"\"\n",
    "        updated_males = []\n",
    "        for male in self.male_small:\n",
    "            movement = np.zeros_like(male)\n",
    "            for large_male in self.male_large:\n",
    "                r1 = self.rng.normal(0.5, 0.1)\n",
    "                r2 = self.rng.uniform()\n",
    "                if r2 < self.d:\n",
    "                    movement += r1 * (large_male - male)\n",
    "            updated_male = male + movement\n",
    "            updated_male = self.clip_individual(updated_male)\n",
    "            updated_males.append(updated_male)\n",
    "        return updated_males\n",
    "\n",
    "    def clip_individual(self, individual):\n",
    "        \"\"\"\n",
    "        Membatasi nilai individu agar tetap dalam batas search_space.\n",
    "\n",
    "        Args:\n",
    "            individual (np.array): Individu yang akan dibatasi.\n",
    "\n",
    "        Returns:\n",
    "            np.array: Individu yang telah dibatasi.\n",
    "        \"\"\"\n",
    "        clipped = np.array([\n",
    "            np.clip(value, low, high)\n",
    "            for value, (low, high) in zip(individual, self.search_space.values())\n",
    "        ])\n",
    "        return clipped\n",
    "\n",
    "    def optimize(self):\n",
    "        \"\"\"\n",
    "        Menjalankan proses optimasi menggunakan Algoritma Komodo Mlipir.\n",
    "\n",
    "        Returns:\n",
    "            dict: Solusi terbaik dan nilai fitness terbaik.\n",
    "        \"\"\"\n",
    "        self.initialize_population()\n",
    "        for iteration in range(self.max_iter):\n",
    "            if iteration == 0:\n",
    "                fitness_values = self.calculate_fitness()\n",
    "                sorted_pop, sorted_fit = self.sort_population(fitness_values)\n",
    "            self.split_population(sorted_pop, sorted_fit)\n",
    "\n",
    "            # Pergerakan masing-masing kelompok\n",
    "            new_male_large = self.male_large_movement()\n",
    "            new_female = self.female_movement()\n",
    "            new_male_small = self.male_small_movement()\n",
    "\n",
    "            # Membentuk populasi baru\n",
    "            old_population = self.population.copy()\n",
    "            old_fitness_values = fitness_values.copy()\n",
    "            self.population = new_male_large + [new_female] + new_male_small\n",
    "            child_fitness_values = self.calculate_fitness()\n",
    "            self.population = old_population + self.population\n",
    "            fitness_values_new = np.concatenate([old_fitness_values, child_fitness_values])\n",
    "            new_populasi, fitness_values = self.sort_population(fitness_values_new)\n",
    "            self.population = new_populasi[:self.n]\n",
    "            fitness_values = fitness_values[:self.n]\n",
    "            sorted_pop = self.population\n",
    "            sorted_fit = fitness_values\n",
    "            \n",
    "\n",
    "            # Evaluasi populasi baru\n",
    "            self.best_fitness = fitness_values[0]\n",
    "            self.best_solution = self.population[0]\n",
    "\n",
    "            # Menyimpan sejarah\n",
    "            self.history[\"best_fitness\"].append(self.best_fitness)\n",
    "            self.history[\"best_solution\"].append(self.best_solution)\n",
    "\n",
    "            print(\n",
    "                f\"Generasi {iteration + 1}: Best Fitness = {self.best_fitness}, \"\n",
    "                f\"Best Solution = {self.best_solution}\"\n",
    "            )\n",
    "\n",
    "            # Pengecekan kriteria penghentian\n",
    "            if self.stop_criteria is not None:\n",
    "                if abs(self.best_fitness - self.stop_criteria) <= 0.1:\n",
    "                    print(\"Kriteria penghentian tercapai.\")\n",
    "                    break\n",
    "\n",
    "        return {\n",
    "            \"best_solution\": self.best_solution,\n",
    "            \"best_fitness\": self.best_fitness,\n",
    "            \"history\": self.history,\n",
    "        }"
   ]
  },
  {
   "cell_type": "code",
   "execution_count": 38,
   "metadata": {},
   "outputs": [
    {
     "name": "stderr",
     "output_type": "stream",
     "text": [
      "                                                                                \r"
     ]
    },
    {
     "name": "stdout",
     "output_type": "stream",
     "text": [
      "Betina melakukan parthenogenesis.\n"
     ]
    },
    {
     "name": "stderr",
     "output_type": "stream",
     "text": [
      "                                                                                \r"
     ]
    },
    {
     "name": "stdout",
     "output_type": "stream",
     "text": [
      "Generasi 1: Best Fitness = 0.006034129690341546, Best Solution = [0.7611397  0.78606431 0.12811363]\n"
     ]
    },
    {
     "name": "stderr",
     "output_type": "stream",
     "text": [
      "                                                                                \r"
     ]
    },
    {
     "name": "stdout",
     "output_type": "stream",
     "text": [
      "Betina kawin dengan jantan besar.\n"
     ]
    },
    {
     "name": "stderr",
     "output_type": "stream",
     "text": [
      "                                                                                \r"
     ]
    },
    {
     "name": "stdout",
     "output_type": "stream",
     "text": [
      "Generasi 2: Best Fitness = 0.006034129690341546, Best Solution = [0.7611397  0.78606431 0.12811363]\n"
     ]
    },
    {
     "name": "stderr",
     "output_type": "stream",
     "text": [
      "                                                                                \r"
     ]
    },
    {
     "name": "stdout",
     "output_type": "stream",
     "text": [
      "Betina kawin dengan jantan besar.\n"
     ]
    },
    {
     "name": "stderr",
     "output_type": "stream",
     "text": [
      "                                                                                \r"
     ]
    },
    {
     "name": "stdout",
     "output_type": "stream",
     "text": [
      "Generasi 3: Best Fitness = 0.006034129690341546, Best Solution = [0.86898909 0.75231631 0.        ]\n",
      "Betina melakukan parthenogenesis.\n"
     ]
    },
    {
     "name": "stderr",
     "output_type": "stream",
     "text": [
      "                                                                                \r"
     ]
    },
    {
     "name": "stdout",
     "output_type": "stream",
     "text": [
      "Generasi 4: Best Fitness = 0.006034129690341546, Best Solution = [0.83200611 0.76388894 0.        ]\n",
      "Betina melakukan parthenogenesis.\n"
     ]
    },
    {
     "name": "stderr",
     "output_type": "stream",
     "text": [
      "                                                                                \r"
     ]
    },
    {
     "name": "stdout",
     "output_type": "stream",
     "text": [
      "Generasi 5: Best Fitness = 0.006034129690341546, Best Solution = [0.79188208 0.77644447 0.07253699]\n",
      "Betina melakukan parthenogenesis.\n"
     ]
    },
    {
     "name": "stderr",
     "output_type": "stream",
     "text": [
      "                                                                                \r"
     ]
    },
    {
     "name": "stdout",
     "output_type": "stream",
     "text": [
      "Generasi 6: Best Fitness = 0.006034129690341546, Best Solution = [0.84680891 0.75925688 0.        ]\n",
      "Betina melakukan parthenogenesis.\n"
     ]
    },
    {
     "name": "stderr",
     "output_type": "stream",
     "text": [
      "                                                                                \r"
     ]
    },
    {
     "name": "stdout",
     "output_type": "stream",
     "text": [
      "Generasi 7: Best Fitness = 0.006034129690341546, Best Solution = [0.76986613 0.78333365 0.11233784]\n",
      "Betina melakukan parthenogenesis.\n"
     ]
    },
    {
     "name": "stderr",
     "output_type": "stream",
     "text": [
      "                                                                                \r"
     ]
    },
    {
     "name": "stdout",
     "output_type": "stream",
     "text": [
      "Generasi 8: Best Fitness = 0.006034129690341546, Best Solution = [0.76915741 0.79408202 0.13613134]\n"
     ]
    },
    {
     "name": "stderr",
     "output_type": "stream",
     "text": [
      "                                                                                \r"
     ]
    },
    {
     "name": "stdout",
     "output_type": "stream",
     "text": [
      "Betina kawin dengan jantan besar.\n"
     ]
    },
    {
     "name": "stderr",
     "output_type": "stream",
     "text": [
      "                                                                                \r"
     ]
    },
    {
     "name": "stdout",
     "output_type": "stream",
     "text": [
      "Generasi 9: Best Fitness = 0.006034129690341546, Best Solution = [0.75048506 0.77540966 0.11745899]\n",
      "Betina melakukan parthenogenesis.\n"
     ]
    },
    {
     "name": "stderr",
     "output_type": "stream",
     "text": [
      "[Stage 524:=====================================================> (42 + 1) / 43]\r"
     ]
    },
    {
     "name": "stdout",
     "output_type": "stream",
     "text": [
      "Generasi 10: Best Fitness = 0.006034129690341546, Best Solution = [0.75315368 0.80310181 0.16737448]\n",
      " \n",
      "{'best_fitness': [np.float64(0.006034129690341546), np.float64(0.006034129690341546), np.float64(0.006034129690341546), np.float64(0.006034129690341546), np.float64(0.006034129690341546), np.float64(0.006034129690341546), np.float64(0.006034129690341546), np.float64(0.006034129690341546), np.float64(0.006034129690341546), np.float64(0.006034129690341546)], 'best_solution': [array([0.7611397 , 0.78606431, 0.12811363]), array([0.7611397 , 0.78606431, 0.12811363]), array([0.86898909, 0.75231631, 0.        ]), array([0.83200611, 0.76388894, 0.        ]), array([0.79188208, 0.77644447, 0.07253699]), array([0.84680891, 0.75925688, 0.        ]), array([0.76986613, 0.78333365, 0.11233784]), array([0.76915741, 0.79408202, 0.13613134]), array([0.75048506, 0.77540966, 0.11745899]), array([0.75315368, 0.80310181, 0.16737448])]}\n",
      " \n",
      "{'best_solution': array([0.75315368, 0.80310181, 0.16737448]), 'best_fitness': np.float64(0.006034129690341546), 'history': {'best_fitness': [np.float64(0.006034129690341546), np.float64(0.006034129690341546), np.float64(0.006034129690341546), np.float64(0.006034129690341546), np.float64(0.006034129690341546), np.float64(0.006034129690341546), np.float64(0.006034129690341546), np.float64(0.006034129690341546), np.float64(0.006034129690341546), np.float64(0.006034129690341546)], 'best_solution': [array([0.7611397 , 0.78606431, 0.12811363]), array([0.7611397 , 0.78606431, 0.12811363]), array([0.86898909, 0.75231631, 0.        ]), array([0.83200611, 0.76388894, 0.        ]), array([0.79188208, 0.77644447, 0.07253699]), array([0.84680891, 0.75925688, 0.        ]), array([0.76986613, 0.78333365, 0.11233784]), array([0.76915741, 0.79408202, 0.13613134]), array([0.75048506, 0.77540966, 0.11745899]), array([0.75315368, 0.80310181, 0.16737448])]}}\n"
     ]
    },
    {
     "name": "stderr",
     "output_type": "stream",
     "text": [
      "                                                                                \r"
     ]
    }
   ],
   "source": [
    "#inisiasi kma\n",
    "n = 5\n",
    "p = 0.5\n",
    "d = 0.1\n",
    "max_iter = 10\n",
    "\n",
    "kma = KomodoMlipirAlgorithm(n, p, d, fitness_function, search_space, max_iter)\n",
    "hasil = kma.optimize()\n",
    "  \n",
    "print(\" \")\n",
    "print(kma.history)\n",
    "print(\" \")\n",
    "print(hasil)\n",
    "\n"
   ]
  },
  {
   "cell_type": "code",
   "execution_count": 40,
   "metadata": {},
   "outputs": [],
   "source": [
    "def decode(individu):\n",
    "    regparam_dict = {\n",
    "        1:0,\n",
    "        2:0.01,\n",
    "        3:0.1,\n",
    "        4:0.5,\n",
    "        5:1\n",
    "    }\n",
    "    \n",
    "    elasticnetparam_dict = {\n",
    "        1:0,\n",
    "        2:0.01,\n",
    "        3:0.1,\n",
    "        4:0.5,\n",
    "        5:1\n",
    "    }\n",
    "    \n",
    "    solver_dict = {\n",
    "        1:\"auto\",\n",
    "        2:\"normal\",\n",
    "        3:\"l-bfgs\"\n",
    "    }\n",
    "    \n",
    "    lower_bond = np.array([1,1,1])\n",
    "    upper_bond = np.array([5,5,3])\n",
    "    delta = (upper_bond - lower_bond)\n",
    "    term = individu * delta\n",
    "    hasil = np.int64(np.floor(lower_bond + term))\n",
    "    \n",
    "    regparam = regparam_dict[hasil[0]]\n",
    "    elasticnetparam = elasticnetparam_dict[hasil[1]]\n",
    "    solver = solver_dict[hasil[2]]\n",
    "    \n",
    "    return regparam, elasticnetparam, solver"
   ]
  },
  {
   "cell_type": "code",
   "execution_count": 41,
   "metadata": {},
   "outputs": [],
   "source": [
    "regparam, elasticnetparam, solver = decode(hasil['best_solution'])"
   ]
  },
  {
   "cell_type": "code",
   "execution_count": 42,
   "metadata": {},
   "outputs": [
    {
     "data": {
      "text/plain": [
       "(0.5, 0.5, 'auto')"
      ]
     },
     "execution_count": 42,
     "metadata": {},
     "output_type": "execute_result"
    }
   ],
   "source": [
    "regparam, elasticnetparam, solver"
   ]
  },
  {
   "cell_type": "code",
   "execution_count": 44,
   "metadata": {},
   "outputs": [
    {
     "name": "stderr",
     "output_type": "stream",
     "text": [
      "[Stage 540:=====================================================> (42 + 1) / 43]\r"
     ]
    },
    {
     "name": "stdout",
     "output_type": "stream",
     "text": [
      "RMSE Train Optimal: 19.518138713661962\n",
      "RMSE Test Optimal: 24.913431513236596\n"
     ]
    },
    {
     "name": "stderr",
     "output_type": "stream",
     "text": [
      "                                                                                \r"
     ]
    }
   ],
   "source": [
    "lr_optimal = LinearRegression(featuresCol=\"scaled_features\", labelCol=\"fare_amount\", regParam=regparam, elasticNetParam=elasticnetparam, solver=solver)\n",
    "model_optimal = lr_optimal.fit(train_data)\n",
    "predictions_train_optimal = model_optimal.transform(train_data)\n",
    "predictions_test_optimal = model_optimal.transform(test_data)\n",
    "    \n",
    "evaluator_optimal = RegressionEvaluator(labelCol=\"fare_amount\", predictionCol=\"prediction\", metricName=\"rmse\")\n",
    "rmse_train_optimal = evaluator.evaluate(predictions_train_optimal)\n",
    "rmse_test_optimal = evaluator.evaluate(predictions_test_optimal)\n",
    "\n",
    "print(f\"RMSE Train Optimal: {rmse_train_optimal}\")\n",
    "print(f\"RMSE Test Optimal: {rmse_test_optimal}\")\n"
   ]
  },
  {
   "cell_type": "code",
   "execution_count": 45,
   "metadata": {},
   "outputs": [
    {
     "name": "stdout",
     "output_type": "stream",
     "text": [
      "Persentase: 27.64245545502826%\n"
     ]
    }
   ],
   "source": [
    "delta = abs(rmse_train_optimal - rmse_test_optimal)\n",
    "persentase = (delta / rmse_train_optimal) * 100\n",
    "print(f\"Persentase: {persentase}%\")"
   ]
  },
  {
   "cell_type": "markdown",
   "metadata": {},
   "source": [
    "# Laporan link : https://drive.google.com/drive/folders/1tnz2zeFco_r9akKXdJKSYiAaHT63Rzgp?usp=sharing"
   ]
  }
 ],
 "metadata": {
  "kernelspec": {
   "display_name": ".env",
   "language": "python",
   "name": "python3"
  },
  "language_info": {
   "codemirror_mode": {
    "name": "ipython",
    "version": 3
   },
   "file_extension": ".py",
   "mimetype": "text/x-python",
   "name": "python",
   "nbconvert_exporter": "python",
   "pygments_lexer": "ipython3",
   "version": "3.12.3"
  }
 },
 "nbformat": 4,
 "nbformat_minor": 2
}
