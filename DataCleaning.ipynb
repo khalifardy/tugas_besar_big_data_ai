{
  "nbformat": 4,
  "nbformat_minor": 0,
  "metadata": {
    "colab": {
      "provenance": []
    },
    "kernelspec": {
      "name": "python3",
      "display_name": "Python 3"
    },
    "language_info": {
      "name": "python"
    }
  },
  "cells": [
    {
      "cell_type": "code",
      "execution_count": 1,
      "metadata": {
        "colab": {
          "base_uri": "https://localhost:8080/"
        },
        "id": "kJtJ9rquY-FV",
        "outputId": "50e820b0-ef43-4285-dd0c-e3abb93b4590"
      },
      "outputs": [
        {
          "output_type": "stream",
          "name": "stdout",
          "text": [
            "   id   age   income         city  purchase\n",
            "0   1  25.0  50000.0     new york    1000.0\n",
            "1   2  37.5  54000.0     new york    1200.0\n",
            "2   3  35.0  61375.0  los angeles    1300.0\n",
            "3   4  40.0  65000.0      chicago    1300.0\n",
            "5   5  22.0  58000.0       boston    1100.0\n",
            "6   6  50.0  72000.0      unknown     900.0\n",
            "8   8  29.0  58000.0       boston    1100.0\n"
          ]
        },
        {
          "output_type": "stream",
          "name": "stderr",
          "text": [
            "<ipython-input-1-fde56c3e3b10>:24: FutureWarning: Series.fillna with 'method' is deprecated and will raise in a future version. Use obj.ffill() or obj.bfill() instead.\n",
            "  df['purchase'] = df['purchase'].fillna(method='ffill')\n"
          ]
        }
      ],
      "source": [
        "import pandas as pd\n",
        "import numpy as np\n",
        "\n",
        "# Dataset awal\n",
        "data = {\n",
        "    'id': [1, 2, 3, 4, 4, 5, 6, 7, 8],\n",
        "    'age': [25, np.nan, 35, 40, 40, 22, 50, 150, 29],  # Missing value & outlier\n",
        "    'income': [50000, 54000, np.nan, 65000, 65000, 58000, 72000, 69000, 58000],  # Missing value & duplikat\n",
        "    'city': ['New York', 'new york', 'Los Angeles', 'Chicago', 'Chicago', 'Boston', np.nan, 'Austin', 'Boston'],  # Inkonsistensi\n",
        "    'purchase': [1000, 1200, 1300, np.nan, 1300, 1100, 900, 1250, 1100]  # Missing value\n",
        "}\n",
        "\n",
        "# Membuat DataFrame\n",
        "df = pd.DataFrame(data)\n",
        "\n",
        "# 1. Menangani Missing Values\n",
        "# Mengisi missing value pada kolom 'age' dengan median\n",
        "df['age'] = df['age'].fillna(df['age'].median())\n",
        "\n",
        "# Mengisi missing value pada kolom 'income' dengan mean\n",
        "df['income'] = df['income'].fillna(df['income'].mean())\n",
        "\n",
        "# Mengisi missing value pada kolom 'purchase' dengan forward fill\n",
        "df['purchase'] = df['purchase'].fillna(method='ffill')\n",
        "\n",
        "# 2. Menghapus Duplikat\n",
        "df_cleaned = df.drop_duplicates()\n",
        "\n",
        "# 3. Mengatasi Outlier\n",
        "# Menghapus outliers di kolom 'age' (misalnya, batas wajar antara 18 dan 100 tahun)\n",
        "df_cleaned = df_cleaned[(df_cleaned['age'] >= 18) & (df_cleaned['age'] <= 100)]\n",
        "\n",
        "# 4. Menangani Inkonsistensi Data pada kolom 'city'\n",
        "# Mengubah semua teks di kolom 'city' menjadi huruf kecil (lowercase)\n",
        "df_cleaned['city'] = df_cleaned['city'].str.lower()\n",
        "\n",
        "# 5. Mengisi missing value pada kolom 'city' dengan 'unknown'\n",
        "df_cleaned['city'] = df_cleaned['city'].fillna('unknown')\n",
        "\n",
        "# Menampilkan hasil setelah data cleaning\n",
        "print(df_cleaned)\n"
      ]
    }
  ]
}